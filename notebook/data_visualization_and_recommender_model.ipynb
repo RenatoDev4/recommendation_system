{
 "cells": [
  {
   "cell_type": "markdown",
   "metadata": {},
   "source": [
    "# **Importação de módulos**"
   ]
  },
  {
   "cell_type": "code",
   "execution_count": 1,
   "metadata": {},
   "outputs": [],
   "source": [
    "import pandas as pd\n",
    "import numpy as np\n",
    "import matplotlib.pyplot as plt\n",
    "import seaborn as sns\n",
    "import plotly.express as px\n",
    "from plotly.subplots import make_subplots\n",
    "import warnings\n",
    "warnings.filterwarnings(\"ignore\")\n",
    "\n",
    "pd.set_option(\"display.max_rows\", 80)\n",
    "pd.set_option(\"display.max_columns\", 50)\n",
    "plt.style.use('seaborn-v0_8')\n",
    "plt.rcParams['figure.figsize'] = (15, 6)\n"
   ]
  },
  {
   "cell_type": "markdown",
   "metadata": {},
   "source": [
    "# **Importação dos dados**"
   ]
  },
  {
   "cell_type": "code",
   "execution_count": 2,
   "metadata": {},
   "outputs": [
    {
     "data": {
      "text/plain": [
       "((50872, 13), (41154794, 8), (14306064, 3), (81048, 12), (414098, 5))"
      ]
     },
     "execution_count": 2,
     "metadata": {},
     "output_type": "execute_result"
    }
   ],
   "source": [
    "df_steam_games = pd.read_csv(\"../data/csv/games.csv\")\n",
    "df_steam_recommendations = pd.read_csv(\"../data/csv/recommendations.csv\")\n",
    "df_steam_users = pd.read_csv(\"../data/csv/users.csv\")\n",
    "df_steam_img = pd.read_csv(\"../data/csv/steam_data.csv\")\n",
    "df_steam_colab_filter = pd.read_csv(\"../data/csv/tabela_modelo_sample_collaborative_filtering.csv\")\n",
    "df_steam_games.shape, df_steam_recommendations.shape, df_steam_users.shape, df_steam_img.shape, df_steam_colab_filter.shape"
   ]
  },
  {
   "cell_type": "code",
   "execution_count": 6,
   "metadata": {},
   "outputs": [
    {
     "data": {
      "text/html": [
       "<div>\n",
       "<style scoped>\n",
       "    .dataframe tbody tr th:only-of-type {\n",
       "        vertical-align: middle;\n",
       "    }\n",
       "\n",
       "    .dataframe tbody tr th {\n",
       "        vertical-align: top;\n",
       "    }\n",
       "\n",
       "    .dataframe thead th {\n",
       "        text-align: right;\n",
       "    }\n",
       "</style>\n",
       "<table border=\"1\" class=\"dataframe\">\n",
       "  <thead>\n",
       "    <tr style=\"text-align: right;\">\n",
       "      <th></th>\n",
       "      <th>url</th>\n",
       "      <th>name</th>\n",
       "      <th>categories</th>\n",
       "      <th>img_url</th>\n",
       "      <th>user_reviews</th>\n",
       "      <th>all_reviews</th>\n",
       "      <th>date</th>\n",
       "      <th>developer</th>\n",
       "      <th>publisher</th>\n",
       "      <th>price</th>\n",
       "      <th>pegi</th>\n",
       "      <th>pegi_url</th>\n",
       "    </tr>\n",
       "  </thead>\n",
       "  <tbody>\n",
       "    <tr>\n",
       "      <th>0</th>\n",
       "      <td>https://store.steampowered.com/app/945360/Amon...</td>\n",
       "      <td>Among Us</td>\n",
       "      <td>Online PvPLAN PvPOnline Co-opLAN Co-opCross-Pl...</td>\n",
       "      <td>https://steamcdn-a.akamaihd.net/steam/apps/945...</td>\n",
       "      <td>Overwhelmingly Positive(151,281)- 96% of the 1...</td>\n",
       "      <td>Overwhelmingly Positive(224,878)- 95% of the 2...</td>\n",
       "      <td>Nov 16, 2018</td>\n",
       "      <td>Innersloth</td>\n",
       "      <td>Innersloth</td>\n",
       "      <td>Buy Among Us$4.99Add to Cart</td>\n",
       "      <td>-</td>\n",
       "      <td>-</td>\n",
       "    </tr>\n",
       "    <tr>\n",
       "      <th>1</th>\n",
       "      <td>https://store.steampowered.com/app/730/Counter...</td>\n",
       "      <td>Counter-Strike: Global Offensive</td>\n",
       "      <td>Steam AchievementsFull controller supportSteam...</td>\n",
       "      <td>https://steamcdn-a.akamaihd.net/steam/apps/730...</td>\n",
       "      <td>Very Positive(90,780)- 88% of the 90,780 user ...</td>\n",
       "      <td>Very Positive(4,843,904)- 87% of the 4,843,904...</td>\n",
       "      <td>Aug 21, 2012</td>\n",
       "      <td>Valve, Hidden Path Entertainment</td>\n",
       "      <td>Valve</td>\n",
       "      <td>Play Counter-Strike: Global OffensiveFree to P...</td>\n",
       "      <td>-</td>\n",
       "      <td>-</td>\n",
       "    </tr>\n",
       "    <tr>\n",
       "      <th>2</th>\n",
       "      <td>https://store.steampowered.com/app/1097150/Fal...</td>\n",
       "      <td>Fall Guys: Ultimate Knockout</td>\n",
       "      <td>MMOOnline PvPOnline Co-opSteam AchievementsFul...</td>\n",
       "      <td>https://steamcdn-a.akamaihd.net/steam/apps/109...</td>\n",
       "      <td>Very Positive(32,436)- 84% of the 32,436 user ...</td>\n",
       "      <td>Very Positive(223,706)- 80% of the 223,706 use...</td>\n",
       "      <td>Aug 3, 2020</td>\n",
       "      <td>Mediatonic</td>\n",
       "      <td>Devolver Digital</td>\n",
       "      <td>Buy Fall Guys$19.99Add to Cart</td>\n",
       "      <td>-</td>\n",
       "      <td>-</td>\n",
       "    </tr>\n",
       "    <tr>\n",
       "      <th>3</th>\n",
       "      <td>https://store.steampowered.com/app/1158310/Cru...</td>\n",
       "      <td>Crusader Kings III</td>\n",
       "      <td>Single-playerOnline PvPSteam AchievementsSteam...</td>\n",
       "      <td>https://steamcdn-a.akamaihd.net/steam/apps/115...</td>\n",
       "      <td>Very Positive(5,359)- 91% of the 5,359 user re...</td>\n",
       "      <td>Very Positive(18,951)- 92% of the 18,951 user ...</td>\n",
       "      <td>Sep 1, 2020</td>\n",
       "      <td>Paradox Development Studio</td>\n",
       "      <td>Paradox Interactive</td>\n",
       "      <td>Buy Crusader Kings III$49.99Add to Cart</td>\n",
       "      <td>BloodLanguagePartial NuditySexual ThemesUse of...</td>\n",
       "      <td>https://steamstore-a.akamaihd.net/public/share...</td>\n",
       "    </tr>\n",
       "    <tr>\n",
       "      <th>4</th>\n",
       "      <td>https://store.steampowered.com/app/1085660/Des...</td>\n",
       "      <td>Destiny 2</td>\n",
       "      <td>Single-playerOnline PvPOnline Co-opSteam Achie...</td>\n",
       "      <td>https://steamcdn-a.akamaihd.net/steam/apps/108...</td>\n",
       "      <td>Very Positive(9,147)- 87% of the 9,147 user re...</td>\n",
       "      <td>Very Positive(284,689)- 86% of the 284,689 use...</td>\n",
       "      <td>Oct 1, 2019</td>\n",
       "      <td>Bungie</td>\n",
       "      <td>Bungie</td>\n",
       "      <td>Play Destiny 2Free To PlayPlay Game</td>\n",
       "      <td>Blood Language Violence</td>\n",
       "      <td>https://steamstore-a.akamaihd.net/public/share...</td>\n",
       "    </tr>\n",
       "  </tbody>\n",
       "</table>\n",
       "</div>"
      ],
      "text/plain": [
       "                                                 url  \\\n",
       "0  https://store.steampowered.com/app/945360/Amon...   \n",
       "1  https://store.steampowered.com/app/730/Counter...   \n",
       "2  https://store.steampowered.com/app/1097150/Fal...   \n",
       "3  https://store.steampowered.com/app/1158310/Cru...   \n",
       "4  https://store.steampowered.com/app/1085660/Des...   \n",
       "\n",
       "                               name  \\\n",
       "0                          Among Us   \n",
       "1  Counter-Strike: Global Offensive   \n",
       "2      Fall Guys: Ultimate Knockout   \n",
       "3                Crusader Kings III   \n",
       "4                         Destiny 2   \n",
       "\n",
       "                                          categories  \\\n",
       "0  Online PvPLAN PvPOnline Co-opLAN Co-opCross-Pl...   \n",
       "1  Steam AchievementsFull controller supportSteam...   \n",
       "2  MMOOnline PvPOnline Co-opSteam AchievementsFul...   \n",
       "3  Single-playerOnline PvPSteam AchievementsSteam...   \n",
       "4  Single-playerOnline PvPOnline Co-opSteam Achie...   \n",
       "\n",
       "                                             img_url  \\\n",
       "0  https://steamcdn-a.akamaihd.net/steam/apps/945...   \n",
       "1  https://steamcdn-a.akamaihd.net/steam/apps/730...   \n",
       "2  https://steamcdn-a.akamaihd.net/steam/apps/109...   \n",
       "3  https://steamcdn-a.akamaihd.net/steam/apps/115...   \n",
       "4  https://steamcdn-a.akamaihd.net/steam/apps/108...   \n",
       "\n",
       "                                        user_reviews  \\\n",
       "0  Overwhelmingly Positive(151,281)- 96% of the 1...   \n",
       "1  Very Positive(90,780)- 88% of the 90,780 user ...   \n",
       "2  Very Positive(32,436)- 84% of the 32,436 user ...   \n",
       "3  Very Positive(5,359)- 91% of the 5,359 user re...   \n",
       "4  Very Positive(9,147)- 87% of the 9,147 user re...   \n",
       "\n",
       "                                         all_reviews          date  \\\n",
       "0  Overwhelmingly Positive(224,878)- 95% of the 2...  Nov 16, 2018   \n",
       "1  Very Positive(4,843,904)- 87% of the 4,843,904...  Aug 21, 2012   \n",
       "2  Very Positive(223,706)- 80% of the 223,706 use...   Aug 3, 2020   \n",
       "3  Very Positive(18,951)- 92% of the 18,951 user ...   Sep 1, 2020   \n",
       "4  Very Positive(284,689)- 86% of the 284,689 use...   Oct 1, 2019   \n",
       "\n",
       "                          developer            publisher  \\\n",
       "0                        Innersloth           Innersloth   \n",
       "1  Valve, Hidden Path Entertainment                Valve   \n",
       "2                        Mediatonic     Devolver Digital   \n",
       "3        Paradox Development Studio  Paradox Interactive   \n",
       "4                            Bungie              Bungie    \n",
       "\n",
       "                                               price  \\\n",
       "0                       Buy Among Us$4.99Add to Cart   \n",
       "1  Play Counter-Strike: Global OffensiveFree to P...   \n",
       "2                     Buy Fall Guys$19.99Add to Cart   \n",
       "3            Buy Crusader Kings III$49.99Add to Cart   \n",
       "4                Play Destiny 2Free To PlayPlay Game   \n",
       "\n",
       "                                                pegi  \\\n",
       "0                                                  -   \n",
       "1                                                  -   \n",
       "2                                                  -   \n",
       "3  BloodLanguagePartial NuditySexual ThemesUse of...   \n",
       "4                            Blood Language Violence   \n",
       "\n",
       "                                            pegi_url  \n",
       "0                                                  -  \n",
       "1                                                  -  \n",
       "2                                                  -  \n",
       "3  https://steamstore-a.akamaihd.net/public/share...  \n",
       "4  https://steamstore-a.akamaihd.net/public/share...  "
      ]
     },
     "execution_count": 6,
     "metadata": {},
     "output_type": "execute_result"
    }
   ],
   "source": [
    "df_steam_games.head()"
   ]
  },
  {
   "cell_type": "code",
   "execution_count": 8,
   "metadata": {},
   "outputs": [
    {
     "name": "stdout",
     "output_type": "stream",
     "text": [
      "<class 'pandas.core.frame.DataFrame'>\n",
      "RangeIndex: 50872 entries, 0 to 50871\n",
      "Data columns (total 13 columns):\n",
      " #   Column          Non-Null Count  Dtype  \n",
      "---  ------          --------------  -----  \n",
      " 0   app_id          50872 non-null  int64  \n",
      " 1   title           50872 non-null  object \n",
      " 2   date_release    50872 non-null  object \n",
      " 3   win             50872 non-null  bool   \n",
      " 4   mac             50872 non-null  bool   \n",
      " 5   linux           50872 non-null  bool   \n",
      " 6   rating          50872 non-null  object \n",
      " 7   positive_ratio  50872 non-null  int64  \n",
      " 8   user_reviews    50872 non-null  int64  \n",
      " 9   price_final     50872 non-null  float64\n",
      " 10  price_original  50872 non-null  float64\n",
      " 11  discount        50872 non-null  float64\n",
      " 12  steam_deck      50872 non-null  bool   \n",
      "dtypes: bool(4), float64(3), int64(3), object(3)\n",
      "memory usage: 3.7+ MB\n"
     ]
    }
   ],
   "source": [
    "df_steam_games.info()"
   ]
  },
  {
   "cell_type": "code",
   "execution_count": 9,
   "metadata": {},
   "outputs": [
    {
     "data": {
      "text/html": [
       "<div>\n",
       "<style scoped>\n",
       "    .dataframe tbody tr th:only-of-type {\n",
       "        vertical-align: middle;\n",
       "    }\n",
       "\n",
       "    .dataframe tbody tr th {\n",
       "        vertical-align: top;\n",
       "    }\n",
       "\n",
       "    .dataframe thead th {\n",
       "        text-align: right;\n",
       "    }\n",
       "</style>\n",
       "<table border=\"1\" class=\"dataframe\">\n",
       "  <thead>\n",
       "    <tr style=\"text-align: right;\">\n",
       "      <th></th>\n",
       "      <th>app_id</th>\n",
       "      <th>helpful</th>\n",
       "      <th>funny</th>\n",
       "      <th>date</th>\n",
       "      <th>is_recommended</th>\n",
       "      <th>hours</th>\n",
       "      <th>user_id</th>\n",
       "      <th>review_id</th>\n",
       "    </tr>\n",
       "  </thead>\n",
       "  <tbody>\n",
       "    <tr>\n",
       "      <th>0</th>\n",
       "      <td>975370</td>\n",
       "      <td>0</td>\n",
       "      <td>0</td>\n",
       "      <td>2022-12-12</td>\n",
       "      <td>True</td>\n",
       "      <td>36.3</td>\n",
       "      <td>51580</td>\n",
       "      <td>0</td>\n",
       "    </tr>\n",
       "    <tr>\n",
       "      <th>1</th>\n",
       "      <td>304390</td>\n",
       "      <td>4</td>\n",
       "      <td>0</td>\n",
       "      <td>2017-02-17</td>\n",
       "      <td>False</td>\n",
       "      <td>11.5</td>\n",
       "      <td>2586</td>\n",
       "      <td>1</td>\n",
       "    </tr>\n",
       "    <tr>\n",
       "      <th>2</th>\n",
       "      <td>1085660</td>\n",
       "      <td>2</td>\n",
       "      <td>0</td>\n",
       "      <td>2019-11-17</td>\n",
       "      <td>True</td>\n",
       "      <td>336.5</td>\n",
       "      <td>253880</td>\n",
       "      <td>2</td>\n",
       "    </tr>\n",
       "    <tr>\n",
       "      <th>3</th>\n",
       "      <td>703080</td>\n",
       "      <td>0</td>\n",
       "      <td>0</td>\n",
       "      <td>2022-09-23</td>\n",
       "      <td>True</td>\n",
       "      <td>27.4</td>\n",
       "      <td>259432</td>\n",
       "      <td>3</td>\n",
       "    </tr>\n",
       "    <tr>\n",
       "      <th>4</th>\n",
       "      <td>526870</td>\n",
       "      <td>0</td>\n",
       "      <td>0</td>\n",
       "      <td>2021-01-10</td>\n",
       "      <td>True</td>\n",
       "      <td>7.9</td>\n",
       "      <td>23869</td>\n",
       "      <td>4</td>\n",
       "    </tr>\n",
       "  </tbody>\n",
       "</table>\n",
       "</div>"
      ],
      "text/plain": [
       "    app_id  helpful  funny        date  is_recommended  hours  user_id  \\\n",
       "0   975370        0      0  2022-12-12            True   36.3    51580   \n",
       "1   304390        4      0  2017-02-17           False   11.5     2586   \n",
       "2  1085660        2      0  2019-11-17            True  336.5   253880   \n",
       "3   703080        0      0  2022-09-23            True   27.4   259432   \n",
       "4   526870        0      0  2021-01-10            True    7.9    23869   \n",
       "\n",
       "   review_id  \n",
       "0          0  \n",
       "1          1  \n",
       "2          2  \n",
       "3          3  \n",
       "4          4  "
      ]
     },
     "execution_count": 9,
     "metadata": {},
     "output_type": "execute_result"
    }
   ],
   "source": [
    "df_steam_recommendations.head()"
   ]
  },
  {
   "cell_type": "code",
   "execution_count": 10,
   "metadata": {},
   "outputs": [
    {
     "name": "stdout",
     "output_type": "stream",
     "text": [
      "<class 'pandas.core.frame.DataFrame'>\n",
      "RangeIndex: 41154794 entries, 0 to 41154793\n",
      "Data columns (total 8 columns):\n",
      " #   Column          Dtype  \n",
      "---  ------          -----  \n",
      " 0   app_id          int64  \n",
      " 1   helpful         int64  \n",
      " 2   funny           int64  \n",
      " 3   date            object \n",
      " 4   is_recommended  bool   \n",
      " 5   hours           float64\n",
      " 6   user_id         int64  \n",
      " 7   review_id       int64  \n",
      "dtypes: bool(1), float64(1), int64(5), object(1)\n",
      "memory usage: 2.2+ GB\n"
     ]
    }
   ],
   "source": [
    "df_steam_recommendations.info()"
   ]
  },
  {
   "cell_type": "code",
   "execution_count": 11,
   "metadata": {},
   "outputs": [
    {
     "data": {
      "text/html": [
       "<div>\n",
       "<style scoped>\n",
       "    .dataframe tbody tr th:only-of-type {\n",
       "        vertical-align: middle;\n",
       "    }\n",
       "\n",
       "    .dataframe tbody tr th {\n",
       "        vertical-align: top;\n",
       "    }\n",
       "\n",
       "    .dataframe thead th {\n",
       "        text-align: right;\n",
       "    }\n",
       "</style>\n",
       "<table border=\"1\" class=\"dataframe\">\n",
       "  <thead>\n",
       "    <tr style=\"text-align: right;\">\n",
       "      <th></th>\n",
       "      <th>user_id</th>\n",
       "      <th>products</th>\n",
       "      <th>reviews</th>\n",
       "    </tr>\n",
       "  </thead>\n",
       "  <tbody>\n",
       "    <tr>\n",
       "      <th>0</th>\n",
       "      <td>7360263</td>\n",
       "      <td>359</td>\n",
       "      <td>0</td>\n",
       "    </tr>\n",
       "    <tr>\n",
       "      <th>1</th>\n",
       "      <td>14020781</td>\n",
       "      <td>156</td>\n",
       "      <td>1</td>\n",
       "    </tr>\n",
       "    <tr>\n",
       "      <th>2</th>\n",
       "      <td>8762579</td>\n",
       "      <td>329</td>\n",
       "      <td>4</td>\n",
       "    </tr>\n",
       "    <tr>\n",
       "      <th>3</th>\n",
       "      <td>4820647</td>\n",
       "      <td>176</td>\n",
       "      <td>4</td>\n",
       "    </tr>\n",
       "    <tr>\n",
       "      <th>4</th>\n",
       "      <td>5167327</td>\n",
       "      <td>98</td>\n",
       "      <td>2</td>\n",
       "    </tr>\n",
       "  </tbody>\n",
       "</table>\n",
       "</div>"
      ],
      "text/plain": [
       "    user_id  products  reviews\n",
       "0   7360263       359        0\n",
       "1  14020781       156        1\n",
       "2   8762579       329        4\n",
       "3   4820647       176        4\n",
       "4   5167327        98        2"
      ]
     },
     "execution_count": 11,
     "metadata": {},
     "output_type": "execute_result"
    }
   ],
   "source": [
    "df_steam_users.head()"
   ]
  },
  {
   "cell_type": "code",
   "execution_count": 12,
   "metadata": {},
   "outputs": [
    {
     "name": "stdout",
     "output_type": "stream",
     "text": [
      "<class 'pandas.core.frame.DataFrame'>\n",
      "RangeIndex: 14306064 entries, 0 to 14306063\n",
      "Data columns (total 3 columns):\n",
      " #   Column    Dtype\n",
      "---  ------    -----\n",
      " 0   user_id   int64\n",
      " 1   products  int64\n",
      " 2   reviews   int64\n",
      "dtypes: int64(3)\n",
      "memory usage: 327.4 MB\n"
     ]
    }
   ],
   "source": [
    "df_steam_users.info()"
   ]
  },
  {
   "cell_type": "code",
   "execution_count": 13,
   "metadata": {},
   "outputs": [
    {
     "data": {
      "text/html": [
       "<div>\n",
       "<style scoped>\n",
       "    .dataframe tbody tr th:only-of-type {\n",
       "        vertical-align: middle;\n",
       "    }\n",
       "\n",
       "    .dataframe tbody tr th {\n",
       "        vertical-align: top;\n",
       "    }\n",
       "\n",
       "    .dataframe thead th {\n",
       "        text-align: right;\n",
       "    }\n",
       "</style>\n",
       "<table border=\"1\" class=\"dataframe\">\n",
       "  <thead>\n",
       "    <tr style=\"text-align: right;\">\n",
       "      <th></th>\n",
       "      <th>url</th>\n",
       "      <th>name</th>\n",
       "      <th>categories</th>\n",
       "      <th>img_url</th>\n",
       "      <th>user_reviews</th>\n",
       "      <th>all_reviews</th>\n",
       "      <th>date</th>\n",
       "      <th>developer</th>\n",
       "      <th>publisher</th>\n",
       "      <th>price</th>\n",
       "      <th>pegi</th>\n",
       "      <th>pegi_url</th>\n",
       "    </tr>\n",
       "  </thead>\n",
       "  <tbody>\n",
       "    <tr>\n",
       "      <th>0</th>\n",
       "      <td>https://store.steampowered.com/app/945360/Amon...</td>\n",
       "      <td>Among Us</td>\n",
       "      <td>Online PvPLAN PvPOnline Co-opLAN Co-opCross-Pl...</td>\n",
       "      <td>https://steamcdn-a.akamaihd.net/steam/apps/945...</td>\n",
       "      <td>Overwhelmingly Positive(151,281)- 96% of the 1...</td>\n",
       "      <td>Overwhelmingly Positive(224,878)- 95% of the 2...</td>\n",
       "      <td>Nov 16, 2018</td>\n",
       "      <td>Innersloth</td>\n",
       "      <td>Innersloth</td>\n",
       "      <td>Buy Among Us$4.99Add to Cart</td>\n",
       "      <td>-</td>\n",
       "      <td>-</td>\n",
       "    </tr>\n",
       "    <tr>\n",
       "      <th>1</th>\n",
       "      <td>https://store.steampowered.com/app/730/Counter...</td>\n",
       "      <td>Counter-Strike: Global Offensive</td>\n",
       "      <td>Steam AchievementsFull controller supportSteam...</td>\n",
       "      <td>https://steamcdn-a.akamaihd.net/steam/apps/730...</td>\n",
       "      <td>Very Positive(90,780)- 88% of the 90,780 user ...</td>\n",
       "      <td>Very Positive(4,843,904)- 87% of the 4,843,904...</td>\n",
       "      <td>Aug 21, 2012</td>\n",
       "      <td>Valve, Hidden Path Entertainment</td>\n",
       "      <td>Valve</td>\n",
       "      <td>Play Counter-Strike: Global OffensiveFree to P...</td>\n",
       "      <td>-</td>\n",
       "      <td>-</td>\n",
       "    </tr>\n",
       "    <tr>\n",
       "      <th>2</th>\n",
       "      <td>https://store.steampowered.com/app/1097150/Fal...</td>\n",
       "      <td>Fall Guys: Ultimate Knockout</td>\n",
       "      <td>MMOOnline PvPOnline Co-opSteam AchievementsFul...</td>\n",
       "      <td>https://steamcdn-a.akamaihd.net/steam/apps/109...</td>\n",
       "      <td>Very Positive(32,436)- 84% of the 32,436 user ...</td>\n",
       "      <td>Very Positive(223,706)- 80% of the 223,706 use...</td>\n",
       "      <td>Aug 3, 2020</td>\n",
       "      <td>Mediatonic</td>\n",
       "      <td>Devolver Digital</td>\n",
       "      <td>Buy Fall Guys$19.99Add to Cart</td>\n",
       "      <td>-</td>\n",
       "      <td>-</td>\n",
       "    </tr>\n",
       "    <tr>\n",
       "      <th>3</th>\n",
       "      <td>https://store.steampowered.com/app/1158310/Cru...</td>\n",
       "      <td>Crusader Kings III</td>\n",
       "      <td>Single-playerOnline PvPSteam AchievementsSteam...</td>\n",
       "      <td>https://steamcdn-a.akamaihd.net/steam/apps/115...</td>\n",
       "      <td>Very Positive(5,359)- 91% of the 5,359 user re...</td>\n",
       "      <td>Very Positive(18,951)- 92% of the 18,951 user ...</td>\n",
       "      <td>Sep 1, 2020</td>\n",
       "      <td>Paradox Development Studio</td>\n",
       "      <td>Paradox Interactive</td>\n",
       "      <td>Buy Crusader Kings III$49.99Add to Cart</td>\n",
       "      <td>BloodLanguagePartial NuditySexual ThemesUse of...</td>\n",
       "      <td>https://steamstore-a.akamaihd.net/public/share...</td>\n",
       "    </tr>\n",
       "    <tr>\n",
       "      <th>4</th>\n",
       "      <td>https://store.steampowered.com/app/1085660/Des...</td>\n",
       "      <td>Destiny 2</td>\n",
       "      <td>Single-playerOnline PvPOnline Co-opSteam Achie...</td>\n",
       "      <td>https://steamcdn-a.akamaihd.net/steam/apps/108...</td>\n",
       "      <td>Very Positive(9,147)- 87% of the 9,147 user re...</td>\n",
       "      <td>Very Positive(284,689)- 86% of the 284,689 use...</td>\n",
       "      <td>Oct 1, 2019</td>\n",
       "      <td>Bungie</td>\n",
       "      <td>Bungie</td>\n",
       "      <td>Play Destiny 2Free To PlayPlay Game</td>\n",
       "      <td>Blood Language Violence</td>\n",
       "      <td>https://steamstore-a.akamaihd.net/public/share...</td>\n",
       "    </tr>\n",
       "  </tbody>\n",
       "</table>\n",
       "</div>"
      ],
      "text/plain": [
       "                                                 url  \\\n",
       "0  https://store.steampowered.com/app/945360/Amon...   \n",
       "1  https://store.steampowered.com/app/730/Counter...   \n",
       "2  https://store.steampowered.com/app/1097150/Fal...   \n",
       "3  https://store.steampowered.com/app/1158310/Cru...   \n",
       "4  https://store.steampowered.com/app/1085660/Des...   \n",
       "\n",
       "                               name  \\\n",
       "0                          Among Us   \n",
       "1  Counter-Strike: Global Offensive   \n",
       "2      Fall Guys: Ultimate Knockout   \n",
       "3                Crusader Kings III   \n",
       "4                         Destiny 2   \n",
       "\n",
       "                                          categories  \\\n",
       "0  Online PvPLAN PvPOnline Co-opLAN Co-opCross-Pl...   \n",
       "1  Steam AchievementsFull controller supportSteam...   \n",
       "2  MMOOnline PvPOnline Co-opSteam AchievementsFul...   \n",
       "3  Single-playerOnline PvPSteam AchievementsSteam...   \n",
       "4  Single-playerOnline PvPOnline Co-opSteam Achie...   \n",
       "\n",
       "                                             img_url  \\\n",
       "0  https://steamcdn-a.akamaihd.net/steam/apps/945...   \n",
       "1  https://steamcdn-a.akamaihd.net/steam/apps/730...   \n",
       "2  https://steamcdn-a.akamaihd.net/steam/apps/109...   \n",
       "3  https://steamcdn-a.akamaihd.net/steam/apps/115...   \n",
       "4  https://steamcdn-a.akamaihd.net/steam/apps/108...   \n",
       "\n",
       "                                        user_reviews  \\\n",
       "0  Overwhelmingly Positive(151,281)- 96% of the 1...   \n",
       "1  Very Positive(90,780)- 88% of the 90,780 user ...   \n",
       "2  Very Positive(32,436)- 84% of the 32,436 user ...   \n",
       "3  Very Positive(5,359)- 91% of the 5,359 user re...   \n",
       "4  Very Positive(9,147)- 87% of the 9,147 user re...   \n",
       "\n",
       "                                         all_reviews          date  \\\n",
       "0  Overwhelmingly Positive(224,878)- 95% of the 2...  Nov 16, 2018   \n",
       "1  Very Positive(4,843,904)- 87% of the 4,843,904...  Aug 21, 2012   \n",
       "2  Very Positive(223,706)- 80% of the 223,706 use...   Aug 3, 2020   \n",
       "3  Very Positive(18,951)- 92% of the 18,951 user ...   Sep 1, 2020   \n",
       "4  Very Positive(284,689)- 86% of the 284,689 use...   Oct 1, 2019   \n",
       "\n",
       "                          developer            publisher  \\\n",
       "0                        Innersloth           Innersloth   \n",
       "1  Valve, Hidden Path Entertainment                Valve   \n",
       "2                        Mediatonic     Devolver Digital   \n",
       "3        Paradox Development Studio  Paradox Interactive   \n",
       "4                            Bungie              Bungie    \n",
       "\n",
       "                                               price  \\\n",
       "0                       Buy Among Us$4.99Add to Cart   \n",
       "1  Play Counter-Strike: Global OffensiveFree to P...   \n",
       "2                     Buy Fall Guys$19.99Add to Cart   \n",
       "3            Buy Crusader Kings III$49.99Add to Cart   \n",
       "4                Play Destiny 2Free To PlayPlay Game   \n",
       "\n",
       "                                                pegi  \\\n",
       "0                                                  -   \n",
       "1                                                  -   \n",
       "2                                                  -   \n",
       "3  BloodLanguagePartial NuditySexual ThemesUse of...   \n",
       "4                            Blood Language Violence   \n",
       "\n",
       "                                            pegi_url  \n",
       "0                                                  -  \n",
       "1                                                  -  \n",
       "2                                                  -  \n",
       "3  https://steamstore-a.akamaihd.net/public/share...  \n",
       "4  https://steamstore-a.akamaihd.net/public/share...  "
      ]
     },
     "execution_count": 13,
     "metadata": {},
     "output_type": "execute_result"
    }
   ],
   "source": [
    "df_steam_img.head()"
   ]
  },
  {
   "cell_type": "code",
   "execution_count": 14,
   "metadata": {},
   "outputs": [
    {
     "name": "stdout",
     "output_type": "stream",
     "text": [
      "<class 'pandas.core.frame.DataFrame'>\n",
      "RangeIndex: 81048 entries, 0 to 81047\n",
      "Data columns (total 12 columns):\n",
      " #   Column        Non-Null Count  Dtype \n",
      "---  ------        --------------  ----- \n",
      " 0   url           81048 non-null  object\n",
      " 1   name          81043 non-null  object\n",
      " 2   categories    80453 non-null  object\n",
      " 3   img_url       81048 non-null  object\n",
      " 4   user_reviews  81048 non-null  object\n",
      " 5   all_reviews   81046 non-null  object\n",
      " 6   date          81046 non-null  object\n",
      " 7   developer     81045 non-null  object\n",
      " 8   publisher     81048 non-null  object\n",
      " 9   price         81048 non-null  object\n",
      " 10  pegi          76765 non-null  object\n",
      " 11  pegi_url      81048 non-null  object\n",
      "dtypes: object(12)\n",
      "memory usage: 7.4+ MB\n"
     ]
    }
   ],
   "source": [
    "df_steam_img.info()"
   ]
  },
  {
   "cell_type": "code",
   "execution_count": 15,
   "metadata": {},
   "outputs": [
    {
     "data": {
      "text/html": [
       "<div>\n",
       "<style scoped>\n",
       "    .dataframe tbody tr th:only-of-type {\n",
       "        vertical-align: middle;\n",
       "    }\n",
       "\n",
       "    .dataframe tbody tr th {\n",
       "        vertical-align: top;\n",
       "    }\n",
       "\n",
       "    .dataframe thead th {\n",
       "        text-align: right;\n",
       "    }\n",
       "</style>\n",
       "<table border=\"1\" class=\"dataframe\">\n",
       "  <thead>\n",
       "    <tr style=\"text-align: right;\">\n",
       "      <th></th>\n",
       "      <th>app_id</th>\n",
       "      <th>title</th>\n",
       "      <th>user_id</th>\n",
       "      <th>is_recommended</th>\n",
       "      <th>img_url</th>\n",
       "    </tr>\n",
       "  </thead>\n",
       "  <tbody>\n",
       "    <tr>\n",
       "      <th>0</th>\n",
       "      <td>13500</td>\n",
       "      <td>Prince of Persia: Warrior Within™</td>\n",
       "      <td>1238024</td>\n",
       "      <td>0</td>\n",
       "      <td>https://steamcdn-a.akamaihd.net/steam/apps/135...</td>\n",
       "    </tr>\n",
       "    <tr>\n",
       "      <th>1</th>\n",
       "      <td>13500</td>\n",
       "      <td>Prince of Persia: Warrior Within™</td>\n",
       "      <td>748899</td>\n",
       "      <td>1</td>\n",
       "      <td>https://steamcdn-a.akamaihd.net/steam/apps/135...</td>\n",
       "    </tr>\n",
       "    <tr>\n",
       "      <th>2</th>\n",
       "      <td>13500</td>\n",
       "      <td>Prince of Persia: Warrior Within™</td>\n",
       "      <td>6164945</td>\n",
       "      <td>0</td>\n",
       "      <td>https://steamcdn-a.akamaihd.net/steam/apps/135...</td>\n",
       "    </tr>\n",
       "    <tr>\n",
       "      <th>3</th>\n",
       "      <td>13500</td>\n",
       "      <td>Prince of Persia: Warrior Within™</td>\n",
       "      <td>9191897</td>\n",
       "      <td>1</td>\n",
       "      <td>https://steamcdn-a.akamaihd.net/steam/apps/135...</td>\n",
       "    </tr>\n",
       "    <tr>\n",
       "      <th>4</th>\n",
       "      <td>13500</td>\n",
       "      <td>Prince of Persia: Warrior Within™</td>\n",
       "      <td>2003871</td>\n",
       "      <td>0</td>\n",
       "      <td>https://steamcdn-a.akamaihd.net/steam/apps/135...</td>\n",
       "    </tr>\n",
       "  </tbody>\n",
       "</table>\n",
       "</div>"
      ],
      "text/plain": [
       "   app_id                              title  user_id  is_recommended  \\\n",
       "0   13500  Prince of Persia: Warrior Within™  1238024               0   \n",
       "1   13500  Prince of Persia: Warrior Within™   748899               1   \n",
       "2   13500  Prince of Persia: Warrior Within™  6164945               0   \n",
       "3   13500  Prince of Persia: Warrior Within™  9191897               1   \n",
       "4   13500  Prince of Persia: Warrior Within™  2003871               0   \n",
       "\n",
       "                                             img_url  \n",
       "0  https://steamcdn-a.akamaihd.net/steam/apps/135...  \n",
       "1  https://steamcdn-a.akamaihd.net/steam/apps/135...  \n",
       "2  https://steamcdn-a.akamaihd.net/steam/apps/135...  \n",
       "3  https://steamcdn-a.akamaihd.net/steam/apps/135...  \n",
       "4  https://steamcdn-a.akamaihd.net/steam/apps/135...  "
      ]
     },
     "execution_count": 15,
     "metadata": {},
     "output_type": "execute_result"
    }
   ],
   "source": [
    "df_steam_colab_filter.head()"
   ]
  },
  {
   "cell_type": "code",
   "execution_count": 16,
   "metadata": {},
   "outputs": [
    {
     "name": "stdout",
     "output_type": "stream",
     "text": [
      "<class 'pandas.core.frame.DataFrame'>\n",
      "RangeIndex: 414098 entries, 0 to 414097\n",
      "Data columns (total 5 columns):\n",
      " #   Column          Non-Null Count   Dtype \n",
      "---  ------          --------------   ----- \n",
      " 0   app_id          414098 non-null  int64 \n",
      " 1   title           414098 non-null  object\n",
      " 2   user_id         414098 non-null  int64 \n",
      " 3   is_recommended  414098 non-null  int64 \n",
      " 4   img_url         414098 non-null  object\n",
      "dtypes: int64(3), object(2)\n",
      "memory usage: 15.8+ MB\n"
     ]
    }
   ],
   "source": [
    "df_steam_colab_filter.info()"
   ]
  },
  {
   "cell_type": "markdown",
   "metadata": {},
   "source": [
    "# **Modelagem dos dados**"
   ]
  },
  {
   "cell_type": "markdown",
   "metadata": {},
   "source": [
    "**Fazendo merge de colunas: URL das imagens**"
   ]
  },
  {
   "cell_type": "code",
   "execution_count": null,
   "metadata": {},
   "outputs": [],
   "source": [
    "tabela_cruzada = df_steam_games.merge(df_steam_img[[\"name\", 'img_url', 'url']], how=\"inner\", left_on=\"title\", right_on=\"name\")\n",
    "tabela_cruzada = tabela_cruzada.drop(columns=\"name\")"
   ]
  },
  {
   "cell_type": "code",
   "execution_count": null,
   "metadata": {},
   "outputs": [],
   "source": [
    "tabela_cruzada.to_csv(\"data/tabela_modelo_sample_collaborative_filtering_with_img.csv\", index=False)"
   ]
  },
  {
   "cell_type": "markdown",
   "metadata": {},
   "source": [
    "Salvando arquivo para o Streamlit"
   ]
  },
  {
   "cell_type": "code",
   "execution_count": null,
   "metadata": {},
   "outputs": [],
   "source": [
    "tabela_cruzada.to_pickle(\"data/games.pkl\")"
   ]
  },
  {
   "cell_type": "markdown",
   "metadata": {},
   "source": [
    "**Fazendo merge de colunas: Recomendações dos jogos**"
   ]
  },
  {
   "cell_type": "code",
   "execution_count": null,
   "metadata": {},
   "outputs": [],
   "source": [
    "tabela_cruzada = df_steam_games.merge(df_steam_recommendations, how=\"inner\", on=\"app_id\")"
   ]
  },
  {
   "cell_type": "markdown",
   "metadata": {},
   "source": [
    "**Novo dataframe apenas com colunas importantes**"
   ]
  },
  {
   "cell_type": "code",
   "execution_count": null,
   "metadata": {},
   "outputs": [],
   "source": [
    "tabela_final = tabela_cruzada[[\"title\", \"positive_ratio\", \"user_reviews\"]]\n",
    "tabela_final.to_csv(\"data/tabela_modelo_sample_popularity-based.csv\", index=False)"
   ]
  },
  {
   "cell_type": "markdown",
   "metadata": {},
   "source": [
    "**Sistema de recomendação baseado em filtragem colaborativa, consideraremos apenas os usuários que avaliaram mais de 200 games e os games que obtiveram pelo menos 50 avaliações.**"
   ]
  },
  {
   "cell_type": "code",
   "execution_count": null,
   "metadata": {},
   "outputs": [],
   "source": [
    "x = tabela_cruzada.groupby(\"user_id\").count()[\"is_recommended\"] > 200\n",
    "educated_users = x[x].index\n",
    "\n",
    "games_ratings = tabela_cruzada[tabela_cruzada[\"user_id\"].isin(educated_users)]\n",
    "\n",
    "y = games_ratings.groupby(\"title\")[\"is_recommended\"].count() >= 50\n",
    "famous_games = y[y].index\n",
    "\n",
    "final = games_ratings[games_ratings[\"title\"].isin(famous_games)]\n",
    "\n",
    "final = final[[\"app_id\", \"title\", \"user_id\", \"is_recommended\"]]\n",
    "\n",
    "final[\"is_recommended\"] = final[\"is_recommended\"].astype(int)"
   ]
  },
  {
   "cell_type": "markdown",
   "metadata": {},
   "source": [
    "# **Data Visualization - Exploração**"
   ]
  },
  {
   "cell_type": "markdown",
   "metadata": {},
   "source": [
    "Descrição das colunas"
   ]
  },
  {
   "cell_type": "code",
   "execution_count": null,
   "metadata": {},
   "outputs": [],
   "source": [
    "tabela_cruzada.describe()"
   ]
  },
  {
   "cell_type": "markdown",
   "metadata": {},
   "source": [
    "Verificando se existe colunas com valores nulos"
   ]
  },
  {
   "cell_type": "code",
   "execution_count": null,
   "metadata": {},
   "outputs": [],
   "source": [
    "tabela_cruzada.isnull().sum()"
   ]
  },
  {
   "cell_type": "markdown",
   "metadata": {},
   "source": [
    "Verificando se existe itens duplicados"
   ]
  },
  {
   "cell_type": "code",
   "execution_count": null,
   "metadata": {},
   "outputs": [],
   "source": [
    "tabela_cruzada.duplicated().sum()"
   ]
  },
  {
   "cell_type": "code",
   "execution_count": null,
   "metadata": {},
   "outputs": [],
   "source": [
    "plt.title(\"Analisando as avaliações\")\n",
    "sns.boxplot(data=tabela_cruzada, x=\"positive_ratio\")\n",
    "plt.show()"
   ]
  },
  {
   "cell_type": "code",
   "execution_count": null,
   "metadata": {},
   "outputs": [],
   "source": [
    "analise = tabela_cruzada.groupby(by=[\"title\"]).agg(\n",
    "    Quantidade = (\"review_id\", \"count\"),\n",
    "    Positivos = (\"is_recommended\", lambda x: np.where(x, 1, 0).sum()),\n",
    "    Negativos = (\"is_recommended\", lambda x: np.where(x, 0, 1).sum())\n",
    ")\n",
    "\n",
    "analise.head()"
   ]
  },
  {
   "cell_type": "code",
   "execution_count": null,
   "metadata": {},
   "outputs": [],
   "source": [
    "analise.sort_values([\"Quantidade\"], ascending=False).head()"
   ]
  },
  {
   "cell_type": "code",
   "execution_count": null,
   "metadata": {},
   "outputs": [],
   "source": [
    "fig = px.scatter(\n",
    "    data_frame=analise,\n",
    "    x=\"Quantidade\", y=\"Positivos\",\n",
    "    title=\"Quantidade x Review Positivos e Negativos\"\n",
    ")\n",
    "\n",
    "fig.add_trace(px.scatter(\n",
    "    data_frame=analise,\n",
    "    x=\"Quantidade\", y=\"Negativos\",\n",
    ").update_traces(marker=dict(color=\"red\")).data[0])\n",
    "\n",
    "fig.update_layout(\n",
    "    margin=dict(l=0, r=0, b=0, t=30, pad=4),\n",
    "    paper_bgcolor=\"LightSteelBlue\",\n",
    ")"
   ]
  },
  {
   "cell_type": "code",
   "execution_count": null,
   "metadata": {},
   "outputs": [],
   "source": [
    "analise.corr(method='spearman')"
   ]
  },
  {
   "cell_type": "code",
   "execution_count": null,
   "metadata": {},
   "outputs": [],
   "source": [
    "analise[\"Quantidade\"].describe()"
   ]
  },
  {
   "cell_type": "code",
   "execution_count": null,
   "metadata": {},
   "outputs": [],
   "source": [
    "def classificacao_quantidade(quantidade):\n",
    "    if int(quantidade) <= 50:\n",
    "        return \"1-50 Avaliações\"\n",
    "    \n",
    "    elif int(quantidade) <= 500:\n",
    "        return \"51-500 Avaliações\"\n",
    "    \n",
    "    elif int(quantidade) <= 2000:\n",
    "        return \"501-2000 Avaliações\"\n",
    "    \n",
    "    elif int(quantidade) <= 5000:\n",
    "        return \"2001-5000 Avaliações\"\n",
    "    \n",
    "    else:\n",
    "        return \">5001 Avaliações\"\n",
    "    \n",
    "pizza = analise[\"Quantidade\"].apply(classificacao_quantidade).value_counts(normalize=True) * 100\n",
    "\n",
    "pizza = pd.DataFrame(pizza).reset_index()\n",
    "\n",
    "px.pie(data_frame=pizza,\n",
    "       names=\"Quantidade\", values=\"proportion\",\n",
    "       title=\"Divisão das Quantidades\")"
   ]
  },
  {
   "cell_type": "code",
   "execution_count": null,
   "metadata": {},
   "outputs": [],
   "source": [
    "analise_ano = tabela_cruzada[\"date_release\"].value_counts().sort_index().reset_index()\n",
    "\n",
    "analise_ano"
   ]
  },
  {
   "cell_type": "code",
   "execution_count": null,
   "metadata": {},
   "outputs": [],
   "source": [
    "analise_ano.describe()"
   ]
  },
  {
   "cell_type": "code",
   "execution_count": null,
   "metadata": {},
   "outputs": [],
   "source": [
    "from matplotlib.ticker import FuncFormatter\n",
    "\n",
    "filtro_ano = analise_ano.loc[(analise_ano[\"date_release\"] > \"1997-06-30\") & (analise_ano[\"date_release\"] < \"2023-08-24\")]\n",
    "dados_agrupados = filtro_ano.groupby(filtro_ano[\"date_release\"].dt.year)[\"count\"].sum()\n",
    "\n",
    "plt.title(\"Análise de lançamento de jogos por ano\")\n",
    "plt.xlabel(\"Ano de Lançamento\")\n",
    "plt.ylabel(\"Número de Jogos Lançados\")\n",
    "plt.bar(dados_agrupados.index, dados_agrupados.values)\n",
    "\n",
    "plt.xticks(rotation=45)\n",
    "\n",
    "plt.gca().yaxis.set_major_formatter(FuncFormatter(lambda x, _: '{:,.0f}'.format(x)))\n",
    "\n",
    "plt.show()"
   ]
  },
  {
   "cell_type": "code",
   "execution_count": null,
   "metadata": {},
   "outputs": [],
   "source": [
    "analise_preco  = tabela_cruzada[\"price_final\"].agg(\n",
    "    Max = \"max\",\n",
    "    Min = \"min\",\n",
    "    Media = \"mean\",\n",
    "    Mediana = \"median\",\n",
    ")\n",
    "\n",
    "analise_preco.plot(kind='bar')\n",
    "plt.title(\"Análise de Preço\")\n",
    "plt.xlabel(\"Estatística\")\n",
    "plt.ylabel(\"Valor\")\n",
    "\n",
    "for i, valor in enumerate(analise_preco.values.flatten()):\n",
    "    if valor != 0.00:\n",
    "        plt.annotate(f'${valor:.2f}', (i, valor), ha='center', va='bottom')\n",
    "    else:\n",
    "        plt.annotate('Free to play', (i, valor), ha='center', va='bottom')\n",
    "        \n",
    "plt.show()"
   ]
  },
  {
   "cell_type": "code",
   "execution_count": null,
   "metadata": {},
   "outputs": [],
   "source": [
    "analise_horas_jogadas = tabela_cruzada.groupby(by=[\"title\"]).agg(\n",
    "    Quantidade_Reviews = (\"review_id\", \"count\"),\n",
    "    Max_Horas_Jogadas = (\"hours\", \"max\"),\n",
    "    Min_Horas_Jogadas = (\"hours\", \"min\"),\n",
    "    Media_Horas_Jogadas = (\"hours\", \"mean\"),\n",
    "    Mediana_Horas_Jogadas = (\"hours\", \"median\"),\n",
    ")\n",
    "\n",
    "analise_horas_jogadas.head()"
   ]
  },
  {
   "cell_type": "code",
   "execution_count": null,
   "metadata": {},
   "outputs": [],
   "source": [
    "analise_horas_jogadas.sort_values(\"Quantidade_Reviews\", ascending=False).head()"
   ]
  },
  {
   "cell_type": "code",
   "execution_count": null,
   "metadata": {},
   "outputs": [],
   "source": [
    "plt.title(\"Análise de horas jogadas por jogo\")\n",
    "sns.boxplot(data=tabela_cruzada, x=\"hours\")\n",
    "plt.show()"
   ]
  },
  {
   "cell_type": "code",
   "execution_count": null,
   "metadata": {},
   "outputs": [],
   "source": [
    "analise_corr_preco = tabela_cruzada.groupby(by=[\"title\"]).agg(\n",
    "    Quantidade = (\"review_id\", \"count\"),\n",
    "    Preço = (\"price_final\", \"mean\"),\n",
    "    Positivos = (\"is_recommended\", lambda x: np.where(x, 1, 0).sum()),\n",
    "    Negativos = (\"is_recommended\", lambda x: np.where(x, 0, 1).sum())\n",
    ")\n",
    "\n",
    "analise_corr_preco = analise_corr_preco.corr()\n",
    "\n",
    "plt.title(\"Mapa de Calor da Matriz de Correlação - Preço\")\n",
    "sns.heatmap(analise_corr_preco, annot=True, cmap=\"coolwarm\", fmt=\".2f\", linewidths=.5)\n",
    "plt.show()\n",
    "\n"
   ]
  },
  {
   "cell_type": "markdown",
   "metadata": {},
   "source": [
    "# **Construção do Modelo** - **Baseado em popularidade**"
   ]
  },
  {
   "cell_type": "code",
   "execution_count": null,
   "metadata": {},
   "outputs": [],
   "source": [
    "import pandas as pd\n",
    "\n",
    "df_final = pd.read_csv(\"data/tabela_modelo_sample_popularity-based.csv\")"
   ]
  },
  {
   "cell_type": "code",
   "execution_count": null,
   "metadata": {},
   "outputs": [],
   "source": [
    "df_final = df_final.rename(columns={\n",
    "    \"title\" : \"titulo\",\n",
    "    \"user_reviews\" : \"total_avaliacao\",\n",
    "    \"positive_ratio\" : \"media_avaliacao\"\n",
    "})"
   ]
  },
  {
   "cell_type": "markdown",
   "metadata": {},
   "source": [
    "# **Construção do Modelo** - **Collaborative Filtering - SEM Machine Learning**"
   ]
  },
  {
   "cell_type": "code",
   "execution_count": 1,
   "metadata": {},
   "outputs": [],
   "source": [
    "import pandas as pd\n",
    "from sklearn.decomposition import NMF\n",
    "import numpy as np\n",
    "from sklearn.metrics.pairwise import cosine_similarity\n",
    "from scipy.sparse import csc_matrix\n",
    "from sklearn.neighbors import NearestNeighbors\n",
    "\n",
    "df_final = pd.read_csv(\"data/tabela_modelo_sample_collaborative_filtering_with_img.csv\")"
   ]
  },
  {
   "cell_type": "markdown",
   "metadata": {},
   "source": [
    "**Filtro final, apenas games que tenham > 13000 avaliações, que é a mediana das avaliações**"
   ]
  },
  {
   "cell_type": "code",
   "execution_count": null,
   "metadata": {},
   "outputs": [],
   "source": [
    "popular_games = df_final[df_final[\"total_avaliacao\"] > 13000].sort_values(by=\"media_avaliacao\", ascending=False).reset_index(drop=True).drop_duplicates(subset=['titulo', 'media_avaliacao', 'total_avaliacao'])\n",
    "\n",
    "tabela_cruzada = popular_games.merge(df_steam_img[[\"url\", \"name\", 'img_url']], how=\"inner\", left_on=\"titulo\", right_on=\"name\")\n",
    "tabela_cruzada = tabela_cruzada.drop(columns=\"name\")\n",
    "tabela_cruzada = tabela_cruzada.drop_duplicates(subset=[\"titulo\"])\n",
    "tabela_cruzada.to_pickle(\"data/popular_games.pkl\")"
   ]
  },
  {
   "cell_type": "code",
   "execution_count": 3,
   "metadata": {},
   "outputs": [],
   "source": [
    "df_final = df_final.rename(columns={\n",
    "    \"title\" : \"titulo\",\n",
    "    \"is_recommended\" : \"avaliacao\",\n",
    "    \"user_id\" : \"id_cliente\"\n",
    "})"
   ]
  },
  {
   "cell_type": "code",
   "execution_count": null,
   "metadata": {},
   "outputs": [],
   "source": [
    "pt = df_final.pivot_table(values=\"avaliacao\", index=\"titulo\", columns=\"id_cliente\")\n",
    "\n",
    "pt = pt.fillna(0)\n",
    "\n",
    "pt.head()"
   ]
  },
  {
   "cell_type": "code",
   "execution_count": null,
   "metadata": {},
   "outputs": [],
   "source": [
    "pt.to_pickle(\"data/pt.pkl\")"
   ]
  },
  {
   "cell_type": "code",
   "execution_count": null,
   "metadata": {},
   "outputs": [],
   "source": [
    "df_final.to_pickle(\"data/df_with_image.pkl\")"
   ]
  },
  {
   "cell_type": "code",
   "execution_count": 5,
   "metadata": {},
   "outputs": [],
   "source": [
    "similarity_scores = cosine_similarity(pt)\n",
    "\n",
    "def recommend(game_name):\n",
    "    index = np.where(pt.index == game_name)[0][0]\n",
    "    similar_games = sorted(enumerate(similarity_scores[index]), key= lambda x: x[1], reverse =True)[1:6]\n",
    "\n",
    "    for i in similar_games:\n",
    "        print(pt.index[i[0]])"
   ]
  },
  {
   "cell_type": "code",
   "execution_count": null,
   "metadata": {},
   "outputs": [],
   "source": [
    "import pickle\n",
    "\n",
    "with open(\"data/similarity_scores.pkl\", \"wb\") as f:\n",
    "    pickle.dump(similarity_scores, f)"
   ]
  },
  {
   "cell_type": "code",
   "execution_count": 6,
   "metadata": {},
   "outputs": [
    {
     "name": "stdout",
     "output_type": "stream",
     "text": [
      "Call of Duty® 2\n",
      "Call of Duty: United Offensive\n",
      "Call of Duty: World at War\n",
      "Call of Duty®: Black Ops\n",
      "DOOM\n"
     ]
    }
   ],
   "source": [
    "recommend(\"Call of Duty®\")"
   ]
  },
  {
   "cell_type": "markdown",
   "metadata": {},
   "source": [
    "# **Construção do Modelo** - **Collaborative Filtering - COM Machine Learning**"
   ]
  },
  {
   "cell_type": "code",
   "execution_count": null,
   "metadata": {},
   "outputs": [],
   "source": [
    "matriz_sparse = csc_matrix(pt)"
   ]
  },
  {
   "cell_type": "code",
   "execution_count": null,
   "metadata": {},
   "outputs": [],
   "source": [
    "modelo = NearestNeighbors(\n",
    "    n_neighbors=5,\n",
    ")\n",
    "\n",
    "modelo.fit(matriz_sparse)"
   ]
  },
  {
   "cell_type": "code",
   "execution_count": null,
   "metadata": {},
   "outputs": [],
   "source": [
    "for posicao, titulo in enumerate(pt.index):\n",
    "    if \"Call of Duty\" in titulo:\n",
    "        print(posicao, titulo)"
   ]
  },
  {
   "cell_type": "code",
   "execution_count": null,
   "metadata": {},
   "outputs": [],
   "source": [
    "seleciona_jogo = pt.iloc[614, :].values.reshape(1, -1)\n",
    "\n",
    "distancia, recomendacao = modelo.kneighbors(seleciona_jogo)"
   ]
  },
  {
   "cell_type": "code",
   "execution_count": null,
   "metadata": {},
   "outputs": [],
   "source": [
    "for loop in range(len(recomendacao)):\n",
    "    print(pt.index[recomendacao[loop]])"
   ]
  }
 ],
 "metadata": {
  "kernelspec": {
   "display_name": "steam_recomendation_system-KMoB4bwr",
   "language": "python",
   "name": "python3"
  },
  "language_info": {
   "codemirror_mode": {
    "name": "ipython",
    "version": 3
   },
   "file_extension": ".py",
   "mimetype": "text/x-python",
   "name": "python",
   "nbconvert_exporter": "python",
   "pygments_lexer": "ipython3",
   "version": "3.11.4"
  }
 },
 "nbformat": 4,
 "nbformat_minor": 2
}
